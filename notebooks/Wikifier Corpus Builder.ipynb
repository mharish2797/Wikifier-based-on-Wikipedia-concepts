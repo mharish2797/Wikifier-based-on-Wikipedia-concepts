{
 "cells": [
  {
   "cell_type": "markdown",
   "metadata": {},
   "source": [
    "# Wikifier Corpus Builder"
   ]
  },
  {
   "cell_type": "markdown",
   "metadata": {},
   "source": [
    "After running the `Attardi Output Data Processor`, the following script is executed to generate the following corpus data:\n",
    "\n",
    "- anchor-id.csv => `<anchor_id>,<anchor_string>`\n",
    "- concept-id.csv => `<concept_id>,<concept_URI>`\n",
    "- anchor-concepts.csv => `<anchor_id>,<concept_id>`\n",
    "- anchor-entropy.csv => `<anchor_id>,<entropy_value>,<edge_value>`\n",
    "- concept-concepts.csv => `<concept_id>,<incoming_concept_id>`"
   ]
  },
  {
   "cell_type": "code",
   "execution_count": 2,
   "metadata": {},
   "outputs": [
    {
     "data": {
      "text/plain": [
       "131072"
      ]
     },
     "execution_count": 2,
     "metadata": {},
     "output_type": "execute_result"
    }
   ],
   "source": [
    "import sys\n",
    "import csv\n",
    "from itertools import chain\n",
    "from numpy import log10 as log\n",
    "from csv import reader, writer\n",
    "\n",
    "csv.field_size_limit(sys.maxsize)"
   ]
  },
  {
   "cell_type": "markdown",
   "metadata": {},
   "source": [
    "### Declare the directories for input/output\n",
    "- corpus_path => Directory of the corpus to store output files\n",
    "- input_file => File input which is of the form `<source_uri> <target_uri> <anchor string>`"
   ]
  },
  {
   "cell_type": "code",
   "execution_count": 2,
   "metadata": {},
   "outputs": [],
   "source": [
    "CORPUS_PATH = \"../corpus/\"\n",
    "input_file = CORPUS_PATH + \"source_target_anchor.csv\"\n",
    "DELIMITER = \" \"\n",
    "FILE_EXTENSION = \".csv\"\n",
    "\n",
    "corpus_files = dict()\n",
    "corpus_file_list = [\"anchor-id\",\"concept-id\", \"concept-concepts\", \"anchor-concepts\", \"anchor-entropy\"]\n",
    "for filename in corpus_file_list:\n",
    "    corpus_files[filename] = CORPUS_PATH + filename + FILE_EXTENSION\n"
   ]
  },
  {
   "cell_type": "markdown",
   "metadata": {},
   "source": [
    "### Corpus Processor\n",
    "Class that defines data structures and methods to collect corpus data that is being generated."
   ]
  },
  {
   "cell_type": "code",
   "execution_count": 4,
   "metadata": {},
   "outputs": [],
   "source": [
    "class CorpusProcessor():\n",
    "    \n",
    "    def __init__(self):\n",
    "        self.anchors, self.concepts = dict(), dict()\n",
    "        self.cc, self.ac, self.entropy  = dict(), dict(), dict()\n",
    "        self.counter = { \"a\": 0, \"c\": 0}\n",
    "        \n",
    "    def update_counter(self, element, key):\n",
    "        if key == \"a\" and element not in self.anchors:\n",
    "            self.anchors[element] = key + str(self.counter[key])\n",
    "            self.counter[key] += 1\n",
    "        elif key == \"c\" and element not in self.concepts:\n",
    "            self.concepts[element] = key + str(self.counter[key])\n",
    "            self.counter[key] += 1\n",
    "    \n",
    "    def update_target(self, source, target):\n",
    "        if target not in self.cc:\n",
    "            self.cc[target] = set([source])\n",
    "        else:\n",
    "            self.cc[target].add(source)\n",
    "        \n",
    "    def update_ac(self, anchor, target):\n",
    "        if anchor not in self.ac:\n",
    "            self.ac[anchor] = dict()\n",
    "            self.ac[anchor][target] = 1\n",
    "        else:\n",
    "            if target in self.ac[anchor]:\n",
    "                self.ac[anchor][target] += 1\n",
    "            else:\n",
    "                self.ac[anchor][target] = 1\n",
    "            \n",
    "    def update_ac_entropy(self):\n",
    "        for anchor in self.ac:\n",
    "            N = sum(self.ac[anchor].values())\n",
    "            summer = 0\n",
    "            for target in self.ac[anchor]:\n",
    "                niN = self.ac[anchor][target]/N\n",
    "                summer -= niN * log(niN)\n",
    "                self.ac[anchor][target] = niN\n",
    "            self.entropy[anchor] = summer"
   ]
  },
  {
   "cell_type": "markdown",
   "metadata": {},
   "source": [
    "### Get input data"
   ]
  },
  {
   "cell_type": "code",
   "execution_count": 5,
   "metadata": {},
   "outputs": [],
   "source": [
    "def is_valid_record(line):\n",
    "    if len(line)<3:\n",
    "        return False\n",
    "    return True\n",
    "\n",
    "def get_input(filename):\n",
    "    input_data = list()\n",
    "    with open(filename, newline = \"\\n\") as csvfile:\n",
    "        records = reader(csvfile, delimiter=DELIMITER)\n",
    "        for row in records:\n",
    "            if is_valid_record(row):\n",
    "                record = row[:2] + [ DELIMITER.join(row[2:]) ]\n",
    "                parsed_record = [word.strip() for word in record]\n",
    "                input_data.append(parsed_record)\n",
    "    return input_data"
   ]
  },
  {
   "cell_type": "markdown",
   "metadata": {},
   "source": [
    "### Parse input data and generate corpus data"
   ]
  },
  {
   "cell_type": "code",
   "execution_count": 6,
   "metadata": {},
   "outputs": [],
   "source": [
    "def parse_input(corpus_object, input_data):\n",
    "    counter = 0\n",
    "    total_count = len(input_data)\n",
    "    for line in input_data:\n",
    "        counter+=1\n",
    "        if counter%1_000_000 == 0:\n",
    "            print(counter, \"/\", total_count, \" records processed\")\n",
    "            print(100*counter/total_count, \"% Done\")\n",
    "        source_uri, target_uri, anchor_text = line\n",
    "        corpus_object.update_counter(anchor_text, \"a\")\n",
    "        for uri in [source_uri, target_uri]:\n",
    "            corpus_object.update_counter(uri, \"c\")\n",
    "        \n",
    "        source_id, target_id = corpus_object.concepts[source_uri], corpus_object.concepts[target_uri]\n",
    "        anchor_id = corpus_object.anchors[anchor_text]\n",
    "        \n",
    "        corpus_object.update_target(source_id, target_id)\n",
    "        corpus_object.update_ac(anchor_id, target_id)\n",
    "        \n",
    "    corpus_object.update_ac_entropy()"
   ]
  },
  {
   "cell_type": "markdown",
   "metadata": {},
   "source": [
    "### Write output data to files"
   ]
  },
  {
   "cell_type": "code",
   "execution_count": 7,
   "metadata": {},
   "outputs": [],
   "source": [
    "def write_data(filename, data):\n",
    "    with open(filename, 'w', newline='\\n') as csvfile:\n",
    "        csv_writer = writer(csvfile)\n",
    "        for record in data:\n",
    "            csv_writer.writerow(record)\n",
    "\n",
    "def object_writer(obj):\n",
    "    write_data(corpus_files[\"anchor-id\"], [(v,k) for k,v in obj.anchors.items()])\n",
    "    write_data(corpus_files[\"concept-id\"], [(v,k) for k,v in obj.concepts.items()])\n",
    "    write_data(corpus_files[\"anchor-entropy\"], [(k,v) for k,v in obj.entropy.items()])\n",
    "    \n",
    "    write_data(corpus_files[\"concept-concepts\"], chain.from_iterable( [ [(k,v) for v in v_list ]for k,v_list in obj.cc.items() ]))\n",
    "    write_data(corpus_files[\"anchor-concepts\"], chain.from_iterable( [ [(k,c,v) for c, v in v_list.items()] for k,v_list in obj.ac.items() ]) )"
   ]
  },
  {
   "cell_type": "markdown",
   "metadata": {},
   "source": [
    "### Main function"
   ]
  },
  {
   "cell_type": "code",
   "execution_count": null,
   "metadata": {},
   "outputs": [],
   "source": [
    "corpus_object =  CorpusProcessor()\n",
    "input_data = get_input(input_file)\n",
    "\n",
    "parse_input(corpus_object, input_data)\n",
    "object_writer(corpus_object)"
   ]
  }
 ],
 "metadata": {
  "kernelspec": {
   "display_name": "Python 3",
   "language": "python",
   "name": "python3"
  },
  "language_info": {
   "codemirror_mode": {
    "name": "ipython",
    "version": 3
   },
   "file_extension": ".py",
   "mimetype": "text/x-python",
   "name": "python",
   "nbconvert_exporter": "python",
   "pygments_lexer": "ipython3",
   "version": "3.7.3"
  },
  "toc": {
   "base_numbering": 1,
   "nav_menu": {},
   "number_sections": true,
   "sideBar": true,
   "skip_h1_title": true,
   "title_cell": "Table of Contents",
   "title_sidebar": "Contents",
   "toc_cell": false,
   "toc_position": {},
   "toc_section_display": true,
   "toc_window_display": true
  }
 },
 "nbformat": 4,
 "nbformat_minor": 2
}
