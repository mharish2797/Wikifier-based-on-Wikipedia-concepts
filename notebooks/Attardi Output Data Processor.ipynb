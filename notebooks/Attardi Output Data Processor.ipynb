{
 "cells": [
  {
   "cell_type": "markdown",
   "metadata": {},
   "source": [
    "# Attardi Output Data Processor"
   ]
  },
  {
   "cell_type": "markdown",
   "metadata": {},
   "source": [
    "The set of output files generated from running the script <a href=\"https://github.com/attardi/wikiextractor\"> WikiExtractor.py </a> is further processed here to generate the set of Anchor-URL mappings to be used for building our Wikifier Corpus. \n",
    "Here, BeautifulSoup is being used to extract all the anchor tags from the Web page."
   ]
  },
  {
   "cell_type": "markdown",
   "metadata": {},
   "source": [
    "### Import libraries"
   ]
  },
  {
   "cell_type": "code",
   "execution_count": 1,
   "metadata": {},
   "outputs": [],
   "source": [
    "import os\n",
    "import json\n",
    "import urllib.parse\n",
    "from bs4 import BeautifulSoup"
   ]
  },
  {
   "cell_type": "markdown",
   "metadata": {},
   "source": [
    "### Declare the directories for input/output\n",
    "- rootdir => Directory of Attardi processed output files\n",
    "- corpus_path => Directory of the corpus to store output files\n",
    "- output_file => File output generated which is of the form `<source_uri> <target_uri> <anchor string>`"
   ]
  },
  {
   "cell_type": "code",
   "execution_count": 2,
   "metadata": {},
   "outputs": [],
   "source": [
    "rootdir = \"../output/\"\n",
    "corpus_path = \"../corpus/\"\n",
    "output_file = corpus_path + \"source_target_anchor.csv\"\n",
    "DELIMITER =' '\n",
    "ERROR = 'error'"
   ]
  },
  {
   "cell_type": "markdown",
   "metadata": {},
   "source": [
    "Extract all the anchor links from a HTML file"
   ]
  },
  {
   "cell_type": "code",
   "execution_count": 3,
   "metadata": {},
   "outputs": [],
   "source": [
    "def get_anchors(text):\n",
    "    soup = BeautifulSoup(text, \"html.parser\")\n",
    "    anchor_list = soup.find_all('a')\n",
    "    return anchor_list"
   ]
  },
  {
   "cell_type": "code",
   "execution_count": 4,
   "metadata": {},
   "outputs": [],
   "source": [
    "def proper_url(text):\n",
    "    if text != None:\n",
    "        text = text.replace(' ', '_')\n",
    "        if 'http://' in text or 'https://' in text:\n",
    "            return text\n",
    "        else:\n",
    "            target_page = \"https://en.wikipedia.org/wiki/\"+text\n",
    "            return target_page\n",
    "    else:\n",
    "        return ERROR\n"
   ]
  },
  {
   "cell_type": "code",
   "execution_count": 5,
   "metadata": {},
   "outputs": [],
   "source": [
    "def file_writer(filename, content):\n",
    "    opener = open(filename, \"a\")\n",
    "    opener.write(content)\n",
    "    opener.close"
   ]
  },
  {
   "cell_type": "code",
   "execution_count": 6,
   "metadata": {},
   "outputs": [],
   "source": [
    "for subdir, dirs, files in os.walk(rootdir):\n",
    "    for file in files:\n",
    "        filename = os.path.join(subdir, file)\n",
    "        \n",
    "        #Parsing each wiki_files        \n",
    "        opener = open(filename, \"r\")\n",
    "        content = opener.readlines()\n",
    "        \n",
    "        for element in content:\n",
    "            data = json.loads(element)\n",
    "            title, text = urllib.parse.quote(data['title']), data['text']\n",
    "            source_uri = proper_url(title)\n",
    "            \n",
    "            if source_uri == ERROR:\n",
    "                continue\n",
    "            \n",
    "            for anchor in get_anchors(text):\n",
    "                anchor_href = anchor.get('href')\n",
    "                target_uri = proper_url(anchor_href)\n",
    "                if target_uri == ERROR:\n",
    "                    continue\n",
    "                \n",
    "                record = DELIMITER.join([source_uri,  target_uri, anchor.text]) + \"\\n\"\n",
    "                file_writer(output_file, record)\n",
    "                \n",
    "        opener.close()"
   ]
  }
 ],
 "metadata": {
  "kernelspec": {
   "display_name": "Python 3",
   "language": "python",
   "name": "python3"
  },
  "language_info": {
   "codemirror_mode": {
    "name": "ipython",
    "version": 3
   },
   "file_extension": ".py",
   "mimetype": "text/x-python",
   "name": "python",
   "nbconvert_exporter": "python",
   "pygments_lexer": "ipython3",
   "version": "3.7.3"
  },
  "toc": {
   "base_numbering": 1,
   "nav_menu": {},
   "number_sections": true,
   "sideBar": true,
   "skip_h1_title": true,
   "title_cell": "Table of Contents",
   "title_sidebar": "Contents",
   "toc_cell": false,
   "toc_position": {},
   "toc_section_display": true,
   "toc_window_display": true
  }
 },
 "nbformat": 4,
 "nbformat_minor": 2
}
